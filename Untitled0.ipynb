{
  "nbformat": 4,
  "nbformat_minor": 0,
  "metadata": {
    "colab": {
      "provenance": []
    },
    "kernelspec": {
      "name": "python3",
      "display_name": "Python 3"
    },
    "language_info": {
      "name": "python"
    }
  },
  "cells": [
    {
      "cell_type": "code",
      "execution_count": null,
      "metadata": {
        "colab": {
          "base_uri": "https://localhost:8080/"
        },
        "id": "vIXfF_bjXnOi",
        "outputId": "f5bcf119-515a-4639-c58e-e81d3040f682"
      },
      "outputs": [
        {
          "output_type": "stream",
          "name": "stdout",
          "text": [
            "['onion', 'carrot', 'chilly']\n"
          ]
        }
      ],
      "source": [
        "n=[\"onion\",\"carrot\",\"chilly\"]\n",
        "print(n)"
      ]
    },
    {
      "cell_type": "code",
      "source": [
        "a=[\"apple\",\"mango\",\"grapes\",1,2,3]\n",
        "print(a)"
      ],
      "metadata": {
        "colab": {
          "base_uri": "https://localhost:8080/"
        },
        "id": "eeGnlGN4bCht",
        "outputId": "d39c4cfb-d375-4b67-a4fb-9b44043199f3"
      },
      "execution_count": null,
      "outputs": [
        {
          "output_type": "stream",
          "name": "stdout",
          "text": [
            "['apple', 'mango', 'grapes', 1, 2, 3]\n"
          ]
        }
      ]
    },
    {
      "cell_type": "code",
      "source": [
        "print(\"a\")"
      ],
      "metadata": {
        "colab": {
          "base_uri": "https://localhost:8080/"
        },
        "id": "LX8t5bHBbvQ7",
        "outputId": "47e179ee-08fa-4cfb-f837-bb2f8f88ead1"
      },
      "execution_count": null,
      "outputs": [
        {
          "output_type": "stream",
          "name": "stdout",
          "text": [
            "a\n"
          ]
        }
      ]
    },
    {
      "cell_type": "code",
      "source": [
        "print(len(a))"
      ],
      "metadata": {
        "colab": {
          "base_uri": "https://localhost:8080/"
        },
        "id": "zlsl-hTGcTIZ",
        "outputId": "d21d01f2-ea70-4fbe-82ed-3c61d4d48f9f"
      },
      "execution_count": null,
      "outputs": [
        {
          "output_type": "stream",
          "name": "stdout",
          "text": [
            "6\n"
          ]
        }
      ]
    },
    {
      "cell_type": "code",
      "source": [
        "print(a[0])"
      ],
      "metadata": {
        "colab": {
          "base_uri": "https://localhost:8080/"
        },
        "id": "ltK7LuKsdmHM",
        "outputId": "4c634abb-f1fa-4a95-e3f7-4dfc5abc9000"
      },
      "execution_count": null,
      "outputs": [
        {
          "output_type": "stream",
          "name": "stdout",
          "text": [
            "apple\n"
          ]
        }
      ]
    },
    {
      "cell_type": "code",
      "source": [
        "print(a[1])"
      ],
      "metadata": {
        "colab": {
          "base_uri": "https://localhost:8080/"
        },
        "id": "81cfVdjHeQLx",
        "outputId": "68b034c7-7074-4de1-db71-595e050c6889"
      },
      "execution_count": null,
      "outputs": [
        {
          "output_type": "stream",
          "name": "stdout",
          "text": [
            "mango\n"
          ]
        }
      ]
    },
    {
      "cell_type": "code",
      "source": [
        "print(a[-1])"
      ],
      "metadata": {
        "colab": {
          "base_uri": "https://localhost:8080/"
        },
        "id": "ER7xors3ec9n",
        "outputId": "b6384ccd-0bd6-4557-cb3e-e9529c3a9ed2"
      },
      "execution_count": null,
      "outputs": [
        {
          "output_type": "stream",
          "name": "stdout",
          "text": [
            "3\n"
          ]
        }
      ]
    },
    {
      "cell_type": "code",
      "source": [
        "print(a[-2])"
      ],
      "metadata": {
        "colab": {
          "base_uri": "https://localhost:8080/"
        },
        "id": "zB0t__rHes2D",
        "outputId": "c24a6084-3797-47e4-aef8-a451e0d16a72"
      },
      "execution_count": null,
      "outputs": [
        {
          "output_type": "stream",
          "name": "stdout",
          "text": [
            "2\n"
          ]
        }
      ]
    },
    {
      "cell_type": "code",
      "source": [
        "n=[\"onion\",\"carrot\",\"chilly\"]\n",
        "a=[\"apple\"\",mango\",\"grapes\",1,2,3]\n",
        "sum=n+a\n",
        "print(sum)"
      ],
      "metadata": {
        "colab": {
          "base_uri": "https://localhost:8080/"
        },
        "id": "G6YFVXMDn5mn",
        "outputId": "10eee927-7703-434b-df9a-eedb852af945"
      },
      "execution_count": null,
      "outputs": [
        {
          "output_type": "stream",
          "name": "stdout",
          "text": [
            "['onion', 'carrot', 'chilly', 'apple,mango', 'grapes', 1, 2, 3]\n"
          ]
        }
      ]
    },
    {
      "cell_type": "code",
      "source": [
        "list3=[\"onion\",\"carrot\",\"chilly\"]\n",
        "list3[0]=\"tomato\"\n",
        "print(list3)\n"
      ],
      "metadata": {
        "colab": {
          "base_uri": "https://localhost:8080/"
        },
        "id": "fHo6Sw0IpQ4S",
        "outputId": "0b59c402-ea00-4cbd-d5a3-3f35e397f7a5"
      },
      "execution_count": null,
      "outputs": [
        {
          "output_type": "stream",
          "name": "stdout",
          "text": [
            "['tomato', 'carrot', 'chilly']\n"
          ]
        }
      ]
    },
    {
      "cell_type": "code",
      "source": [
        "list4=['apple', 'mango', 'grapes', 1, 2, 3]\n",
        "list4[3]=\"1\"\n",
        "print(list4)"
      ],
      "metadata": {
        "colab": {
          "base_uri": "https://localhost:8080/"
        },
        "id": "lCZfkWw3qcZX",
        "outputId": "32fc43de-b75a-421a-a8bb-95cb7f6f9b11"
      },
      "execution_count": null,
      "outputs": [
        {
          "output_type": "stream",
          "name": "stdout",
          "text": [
            "['apple', 'mango', 'grapes', '1', 2, 3]\n"
          ]
        }
      ]
    },
    {
      "cell_type": "code",
      "source": [
        "list3.append(\"cabage\")\n",
        "print(list3)"
      ],
      "metadata": {
        "colab": {
          "base_uri": "https://localhost:8080/"
        },
        "id": "2R5cJrjarVkJ",
        "outputId": "0005f0f5-3251-459e-f261-59ad2f7943da"
      },
      "execution_count": null,
      "outputs": [
        {
          "output_type": "stream",
          "name": "stdout",
          "text": [
            "['tomato', 'carrot', 'chilly', 'cabage']\n"
          ]
        }
      ]
    },
    {
      "cell_type": "code",
      "source": [
        "list3.append(\"beetroot\")\n",
        "print(list3)"
      ],
      "metadata": {
        "colab": {
          "base_uri": "https://localhost:8080/"
        },
        "id": "4MvneMh7rw4Q",
        "outputId": "07d8a7f2-b4e6-4903-f87f-f4a9bebaa8d4"
      },
      "execution_count": null,
      "outputs": [
        {
          "output_type": "stream",
          "name": "stdout",
          "text": [
            "['tomato', 'carrot', 'chilly', 'cabage', 'beetroot']\n"
          ]
        }
      ]
    },
    {
      "cell_type": "code",
      "source": [
        "list3.insert(0,\"radish\")\n",
        "print(list3)"
      ],
      "metadata": {
        "colab": {
          "base_uri": "https://localhost:8080/"
        },
        "id": "CEuNCuBlsLtD",
        "outputId": "89e6a89d-a571-4a6c-ec99-438a7b7d39ed"
      },
      "execution_count": null,
      "outputs": [
        {
          "output_type": "stream",
          "name": "stdout",
          "text": [
            "['radish', 'radish', 'tomato', 'carrot', 'chilly', 'cabage', 'beetroot']\n"
          ]
        }
      ]
    },
    {
      "cell_type": "code",
      "source": [
        "list3.insert(3,\"potato\")\n",
        "print(list3)"
      ],
      "metadata": {
        "colab": {
          "base_uri": "https://localhost:8080/"
        },
        "id": "taFvIcHqtLUV",
        "outputId": "d25b2d0b-36a7-4550-b011-e3c1d2f41732"
      },
      "execution_count": null,
      "outputs": [
        {
          "output_type": "stream",
          "name": "stdout",
          "text": [
            "['radish', 'radish', 'tomato', 'potato', 'potato', 'carrot', 'chilly', 'cabage', 'beetroot']\n"
          ]
        }
      ]
    },
    {
      "cell_type": "code",
      "source": [
        "my_list=[1,2,3]\n",
        "new_elements=[\"nuz\",\"sinu\",5,6]\n",
        "my_list.extend(new_elements)\n",
        "print(my_list)"
      ],
      "metadata": {
        "colab": {
          "base_uri": "https://localhost:8080/"
        },
        "id": "Nj8RZJGxt0wq",
        "outputId": "617da3cc-6e4e-4dde-e65d-497c36f3012c"
      },
      "execution_count": null,
      "outputs": [
        {
          "output_type": "stream",
          "name": "stdout",
          "text": [
            "[1, 2, 3, 'nuz', 'sinu', 5, 6]\n"
          ]
        }
      ]
    },
    {
      "cell_type": "code",
      "source": [
        "list4.clear()\n",
        "print(list4)"
      ],
      "metadata": {
        "colab": {
          "base_uri": "https://localhost:8080/"
        },
        "id": "9G0UVoi3wp9Z",
        "outputId": "230a714c-e369-4080-a975-dde151946b81"
      },
      "execution_count": null,
      "outputs": [
        {
          "output_type": "stream",
          "name": "stdout",
          "text": [
            "[]\n"
          ]
        }
      ]
    },
    {
      "cell_type": "code",
      "source": [
        "del list3\n",
        "print(list3)"
      ],
      "metadata": {
        "colab": {
          "base_uri": "https://localhost:8080/",
          "height": 158
        },
        "id": "9eleigBAw_S3",
        "outputId": "8589593c-3415-407d-edc5-489433e34ef8"
      },
      "execution_count": null,
      "outputs": [
        {
          "output_type": "error",
          "ename": "NameError",
          "evalue": "name 'list3' is not defined",
          "traceback": [
            "\u001b[0;31m---------------------------------------------------------------------------\u001b[0m",
            "\u001b[0;31mNameError\u001b[0m                                 Traceback (most recent call last)",
            "\u001b[0;32m<ipython-input-27-4e5ef0967c5c>\u001b[0m in \u001b[0;36m<cell line: 2>\u001b[0;34m()\u001b[0m\n\u001b[1;32m      1\u001b[0m \u001b[0;32mdel\u001b[0m \u001b[0mlist3\u001b[0m\u001b[0;34m\u001b[0m\u001b[0;34m\u001b[0m\u001b[0m\n\u001b[0;32m----> 2\u001b[0;31m \u001b[0mprint\u001b[0m\u001b[0;34m(\u001b[0m\u001b[0mlist3\u001b[0m\u001b[0;34m)\u001b[0m\u001b[0;34m\u001b[0m\u001b[0;34m\u001b[0m\u001b[0m\n\u001b[0m",
            "\u001b[0;31mNameError\u001b[0m: name 'list3' is not defined"
          ]
        }
      ]
    },
    {
      "cell_type": "code",
      "source": [
        "tuple1=(\"tomato\",\"onion\",\"potato\")\n",
        "print(tuple1)"
      ],
      "metadata": {
        "colab": {
          "base_uri": "https://localhost:8080/"
        },
        "id": "pM0uCJ0rx-hF",
        "outputId": "ac6c28a2-160f-4d81-cd26-f45df7675873"
      },
      "execution_count": null,
      "outputs": [
        {
          "output_type": "stream",
          "name": "stdout",
          "text": [
            "('tomato', 'onion', 'potato')\n"
          ]
        }
      ]
    },
    {
      "cell_type": "code",
      "source": [
        "tuple2=(\"grapes\",\"pineapple\",\"orange\")\n",
        "print(tuple2)"
      ],
      "metadata": {
        "colab": {
          "base_uri": "https://localhost:8080/"
        },
        "id": "HiY62QVZzlVe",
        "outputId": "616ac273-3f51-4ba8-b1d4-944b607e6ecb"
      },
      "execution_count": null,
      "outputs": [
        {
          "output_type": "stream",
          "name": "stdout",
          "text": [
            "('grapes', 'pineapple', 'orange')\n"
          ]
        }
      ]
    },
    {
      "cell_type": "code",
      "source": [
        "print(type(tuple1))\n"
      ],
      "metadata": {
        "colab": {
          "base_uri": "https://localhost:8080/"
        },
        "id": "9oR9qgORyzvq",
        "outputId": "07d5d595-83a0-4dae-c539-596f8334c4d1"
      },
      "execution_count": null,
      "outputs": [
        {
          "output_type": "stream",
          "name": "stdout",
          "text": [
            "<class 'tuple'>\n"
          ]
        }
      ]
    },
    {
      "cell_type": "code",
      "source": [
        "print(len(tuple1))"
      ],
      "metadata": {
        "colab": {
          "base_uri": "https://localhost:8080/"
        },
        "id": "TVR2PPMtzIDp",
        "outputId": "027071df-a02c-4ac7-b0e8-267a9a7f48ed"
      },
      "execution_count": null,
      "outputs": [
        {
          "output_type": "stream",
          "name": "stdout",
          "text": [
            "3\n"
          ]
        }
      ]
    },
    {
      "cell_type": "code",
      "source": [
        "tuple3=tuple2+tuple1\n",
        "print(tuple3)"
      ],
      "metadata": {
        "colab": {
          "base_uri": "https://localhost:8080/"
        },
        "id": "SiNxCa_JzZVx",
        "outputId": "dadd04da-3b27-4cb3-f43c-cb9dbbf18974"
      },
      "execution_count": null,
      "outputs": [
        {
          "output_type": "stream",
          "name": "stdout",
          "text": [
            "('grapes', 'pineapple', 'orange', 'tomato', 'onion', 'potato')\n"
          ]
        }
      ]
    },
    {
      "cell_type": "code",
      "source": [
        "tuple1.append(\"pineaple\")\n",
        "print(tuple1)"
      ],
      "metadata": {
        "colab": {
          "base_uri": "https://localhost:8080/",
          "height": 158
        },
        "id": "VUVbMR3f0Im6",
        "outputId": "5ff9d0fd-bd29-4dd6-ca79-79aab71361c9"
      },
      "execution_count": null,
      "outputs": [
        {
          "output_type": "error",
          "ename": "AttributeError",
          "evalue": "'tuple' object has no attribute 'append'",
          "traceback": [
            "\u001b[0;31m---------------------------------------------------------------------------\u001b[0m",
            "\u001b[0;31mAttributeError\u001b[0m                            Traceback (most recent call last)",
            "\u001b[0;32m<ipython-input-35-0079c4c8fedd>\u001b[0m in \u001b[0;36m<cell line: 1>\u001b[0;34m()\u001b[0m\n\u001b[0;32m----> 1\u001b[0;31m \u001b[0mtuple1\u001b[0m\u001b[0;34m.\u001b[0m\u001b[0mappend\u001b[0m\u001b[0;34m(\u001b[0m\u001b[0;34m\"pineaple\"\u001b[0m\u001b[0;34m)\u001b[0m\u001b[0;34m\u001b[0m\u001b[0;34m\u001b[0m\u001b[0m\n\u001b[0m\u001b[1;32m      2\u001b[0m \u001b[0mprint\u001b[0m\u001b[0;34m(\u001b[0m\u001b[0mtuple1\u001b[0m\u001b[0;34m)\u001b[0m\u001b[0;34m\u001b[0m\u001b[0;34m\u001b[0m\u001b[0m\n",
            "\u001b[0;31mAttributeError\u001b[0m: 'tuple' object has no attribute 'append'"
          ]
        }
      ]
    },
    {
      "cell_type": "code",
      "source": [
        "set1={\"1\",\"2\",\"3\"}\n",
        "print(set1)"
      ],
      "metadata": {
        "colab": {
          "base_uri": "https://localhost:8080/"
        },
        "id": "LP_HRF_90qSP",
        "outputId": "5980aa97-1496-49ed-caa2-5eb40c65e04c"
      },
      "execution_count": null,
      "outputs": [
        {
          "output_type": "stream",
          "name": "stdout",
          "text": [
            "{'1', '3', '2'}\n"
          ]
        }
      ]
    },
    {
      "cell_type": "code",
      "source": [
        "print(set1[0])"
      ],
      "metadata": {
        "colab": {
          "base_uri": "https://localhost:8080/",
          "height": 141
        },
        "id": "2pa2TUp71wnY",
        "outputId": "df77c36d-c2a8-44b9-98cd-d6a376c53661"
      },
      "execution_count": null,
      "outputs": [
        {
          "output_type": "error",
          "ename": "TypeError",
          "evalue": "'set' object is not subscriptable",
          "traceback": [
            "\u001b[0;31m---------------------------------------------------------------------------\u001b[0m",
            "\u001b[0;31mTypeError\u001b[0m                                 Traceback (most recent call last)",
            "\u001b[0;32m<ipython-input-40-ca90c6e7048b>\u001b[0m in \u001b[0;36m<cell line: 1>\u001b[0;34m()\u001b[0m\n\u001b[0;32m----> 1\u001b[0;31m \u001b[0mprint\u001b[0m\u001b[0;34m(\u001b[0m\u001b[0mset1\u001b[0m\u001b[0;34m[\u001b[0m\u001b[0;36m0\u001b[0m\u001b[0;34m]\u001b[0m\u001b[0;34m)\u001b[0m\u001b[0;34m\u001b[0m\u001b[0;34m\u001b[0m\u001b[0m\n\u001b[0m",
            "\u001b[0;31mTypeError\u001b[0m: 'set' object is not subscriptable"
          ]
        }
      ]
    },
    {
      "cell_type": "code",
      "source": [
        "print(\"tomato\"in set1)"
      ],
      "metadata": {
        "colab": {
          "base_uri": "https://localhost:8080/"
        },
        "id": "izeQya8A2FfE",
        "outputId": "25f6c505-38d0-4398-f6e9-a385b8c1ba70"
      },
      "execution_count": null,
      "outputs": [
        {
          "output_type": "stream",
          "name": "stdout",
          "text": [
            "False\n"
          ]
        }
      ]
    },
    {
      "cell_type": "code",
      "source": [
        "print(\"3\"in set1)"
      ],
      "metadata": {
        "colab": {
          "base_uri": "https://localhost:8080/"
        },
        "id": "ERFzOBxd4Nf9",
        "outputId": "c075d0ec-ffb6-4a42-d942-298a736271b4"
      },
      "execution_count": null,
      "outputs": [
        {
          "output_type": "stream",
          "name": "stdout",
          "text": [
            "True\n"
          ]
        }
      ]
    },
    {
      "cell_type": "code",
      "source": [
        "set1.add(\"onion\")\n",
        "print(set1)"
      ],
      "metadata": {
        "colab": {
          "base_uri": "https://localhost:8080/"
        },
        "id": "YdJPjmYR4YS5",
        "outputId": "c988d58e-16af-4a5d-e06a-1268e714b1f1"
      },
      "execution_count": null,
      "outputs": [
        {
          "output_type": "stream",
          "name": "stdout",
          "text": [
            "{'onion', '1', '3', '2'}\n"
          ]
        }
      ]
    },
    {
      "cell_type": "code",
      "source": [
        "set1.update([\"grapes\",4,5,6])\n",
        "print(set1)"
      ],
      "metadata": {
        "colab": {
          "base_uri": "https://localhost:8080/"
        },
        "id": "q2uc_AjV4tHt",
        "outputId": "4d301287-c497-46e3-aa6b-e2b2e87ed806"
      },
      "execution_count": null,
      "outputs": [
        {
          "output_type": "stream",
          "name": "stdout",
          "text": [
            "{'grapes', '1', 4, 5, '2', 6, '3', 'onion'}\n"
          ]
        }
      ]
    },
    {
      "cell_type": "code",
      "source": [
        "a=5\n",
        "b=10\n",
        "sum=a+b\n",
        "print(sum)"
      ],
      "metadata": {
        "colab": {
          "base_uri": "https://localhost:8080/"
        },
        "id": "FhtyRgX-NeqF",
        "outputId": "ae6f4f15-185b-4baf-d023-b879e6d02d2a"
      },
      "execution_count": null,
      "outputs": [
        {
          "output_type": "stream",
          "name": "stdout",
          "text": [
            "15\n"
          ]
        }
      ]
    },
    {
      "cell_type": "code",
      "source": [
        "num1=int(input(\"enter first no.:\"))\n",
        "num2=int(input(\"enter second no.:\"))\n",
        "addition=(num1+num2)\n",
        "print(\"addition is :\",addition)\n"
      ],
      "metadata": {
        "colab": {
          "base_uri": "https://localhost:8080/"
        },
        "id": "_OQ5jlnmQduo",
        "outputId": "848656b7-ab21-4e76-bd0f-fcef020a0c95"
      },
      "execution_count": null,
      "outputs": [
        {
          "output_type": "stream",
          "name": "stdout",
          "text": [
            "enter first no.:5\n",
            "enter second no.:15\n",
            "addition is : 20\n"
          ]
        }
      ]
    },
    {
      "cell_type": "code",
      "source": [
        "a=int(input(\"enter first no.:\"))\n",
        "b=int(input(\"enter second no.:\"))\n",
        "division=(a/b)\n",
        "print(\"division is :\",division)\n"
      ],
      "metadata": {
        "colab": {
          "base_uri": "https://localhost:8080/"
        },
        "id": "1uMgBNj8SVLp",
        "outputId": "b0e0d6d6-e36a-4a1c-f266-45f8a5875fe0"
      },
      "execution_count": null,
      "outputs": [
        {
          "output_type": "stream",
          "name": "stdout",
          "text": [
            "enter first no.:20\n",
            "enter second no.:2\n",
            "division is : 10.0\n"
          ]
        }
      ]
    },
    {
      "cell_type": "code",
      "source": [
        "p=int(input(\"entrt first no.:\"))\n",
        "q=int(input(\"enter second no.:\"))\n",
        "r=p*q\n",
        "print(r)"
      ],
      "metadata": {
        "colab": {
          "base_uri": "https://localhost:8080/"
        },
        "id": "fsrBKLOvV1jP",
        "outputId": "d273efbc-e184-4cdb-a659-023f72e9a14c"
      },
      "execution_count": null,
      "outputs": [
        {
          "output_type": "stream",
          "name": "stdout",
          "text": [
            "entrt first no.:6\n",
            "enter second no.:8\n",
            "48\n"
          ]
        }
      ]
    },
    {
      "cell_type": "code",
      "source": [
        "p=int(input(\"entrt first no.:\"))\n",
        "q=int(input(\"enter second no.:\"))\n",
        "r=p-q\n",
        "print(r)"
      ],
      "metadata": {
        "colab": {
          "base_uri": "https://localhost:8080/"
        },
        "id": "YUgsEbQ0W3AN",
        "outputId": "01b78c1a-be09-437e-e2d4-e32d6701625a"
      },
      "execution_count": null,
      "outputs": [
        {
          "output_type": "stream",
          "name": "stdout",
          "text": [
            "entrt first no.:500\n",
            "enter second no.:300\n",
            "200\n"
          ]
        }
      ]
    },
    {
      "cell_type": "code",
      "source": [
        "z=input(\"enter a name:\")\n",
        "print(\"Hi\",z)"
      ],
      "metadata": {
        "colab": {
          "base_uri": "https://localhost:8080/"
        },
        "id": "G_E0Q2DqXDSJ",
        "outputId": "3c0b5dd0-861b-4a3a-ff7f-f2c7cb84da68"
      },
      "execution_count": null,
      "outputs": [
        {
          "output_type": "stream",
          "name": "stdout",
          "text": [
            "enter a name:Sinu\n",
            "Hi Sinu\n"
          ]
        }
      ]
    },
    {
      "cell_type": "code",
      "source": [
        "set3={\"Rose\",\"Fruits\",\"Chocolate\"}\n",
        "print(set3)"
      ],
      "metadata": {
        "colab": {
          "base_uri": "https://localhost:8080/"
        },
        "id": "sLLNNUCiLPg6",
        "outputId": "fd3e8e80-2b17-4980-f103-bd0c297d58fe"
      },
      "execution_count": 6,
      "outputs": [
        {
          "output_type": "stream",
          "name": "stdout",
          "text": [
            "{'Fruits', 'Chocolate', 'Rose'}\n"
          ]
        }
      ]
    },
    {
      "cell_type": "code",
      "source": [
        "set3.remove(\"Fruits\")\n",
        "print(set3)"
      ],
      "metadata": {
        "colab": {
          "base_uri": "https://localhost:8080/"
        },
        "id": "xyDURFfuLvtn",
        "outputId": "1889bc38-40c2-4f0f-a914-e2e387839c6b"
      },
      "execution_count": 9,
      "outputs": [
        {
          "output_type": "stream",
          "name": "stdout",
          "text": [
            "{'Chocolate'}\n"
          ]
        }
      ]
    },
    {
      "cell_type": "code",
      "source": [
        "set3.discard(\"chocolate\")\n",
        "print(set3)"
      ],
      "metadata": {
        "colab": {
          "base_uri": "https://localhost:8080/"
        },
        "id": "3_-L5N8EPkch",
        "outputId": "54066ca5-6395-4cee-eff2-44773d26d1f3"
      },
      "execution_count": 10,
      "outputs": [
        {
          "output_type": "stream",
          "name": "stdout",
          "text": [
            "{'Chocolate'}\n"
          ]
        }
      ]
    },
    {
      "cell_type": "code",
      "source": [
        "set3.discard(\"vegetable\")\n",
        "print(set3)"
      ],
      "metadata": {
        "colab": {
          "base_uri": "https://localhost:8080/"
        },
        "id": "_EbJ4WZwP5kN",
        "outputId": "4e757424-6049-4322-adeb-03ab2b9723e2"
      },
      "execution_count": 12,
      "outputs": [
        {
          "output_type": "stream",
          "name": "stdout",
          "text": [
            "{'Chocolate'}\n"
          ]
        }
      ]
    },
    {
      "cell_type": "code",
      "source": [
        "set3.remove(\"potato\")\n",
        "print(set3)"
      ],
      "metadata": {
        "colab": {
          "base_uri": "https://localhost:8080/",
          "height": 158
        },
        "id": "iVm05nPEQOOr",
        "outputId": "bec3d03e-2e5c-425d-80d9-561f28fdb07b"
      },
      "execution_count": 13,
      "outputs": [
        {
          "output_type": "error",
          "ename": "KeyError",
          "evalue": "'potato'",
          "traceback": [
            "\u001b[0;31m---------------------------------------------------------------------------\u001b[0m",
            "\u001b[0;31mKeyError\u001b[0m                                  Traceback (most recent call last)",
            "\u001b[0;32m<ipython-input-13-4722e14e62f7>\u001b[0m in \u001b[0;36m<cell line: 1>\u001b[0;34m()\u001b[0m\n\u001b[0;32m----> 1\u001b[0;31m \u001b[0mset3\u001b[0m\u001b[0;34m.\u001b[0m\u001b[0mremove\u001b[0m\u001b[0;34m(\u001b[0m\u001b[0;34m\"potato\"\u001b[0m\u001b[0;34m)\u001b[0m\u001b[0;34m\u001b[0m\u001b[0;34m\u001b[0m\u001b[0m\n\u001b[0m\u001b[1;32m      2\u001b[0m \u001b[0mprint\u001b[0m\u001b[0;34m(\u001b[0m\u001b[0mset3\u001b[0m\u001b[0;34m)\u001b[0m\u001b[0;34m\u001b[0m\u001b[0;34m\u001b[0m\u001b[0m\n",
            "\u001b[0;31mKeyError\u001b[0m: 'potato'"
          ]
        }
      ]
    },
    {
      "cell_type": "code",
      "source": [
        "Boys={1,2,3,4}\n",
        "Girls={4,5,6,1}\n",
        "student=Boys.union(Girls)\n",
        "print(student)\n"
      ],
      "metadata": {
        "colab": {
          "base_uri": "https://localhost:8080/"
        },
        "id": "W3m9bQKyQaQt",
        "outputId": "66dd3be9-b44d-4a18-f012-1d699a1de817"
      },
      "execution_count": 14,
      "outputs": [
        {
          "output_type": "stream",
          "name": "stdout",
          "text": [
            "{1, 2, 3, 4, 5, 6}\n"
          ]
        }
      ]
    },
    {
      "cell_type": "code",
      "source": [
        "A={1,2,3,4,5,9}\n",
        "B={3,4,5,6,8,7}\n",
        "C=A-B\n",
        "print(C)"
      ],
      "metadata": {
        "colab": {
          "base_uri": "https://localhost:8080/"
        },
        "id": "O-9xPchGRSHC",
        "outputId": "1039a980-1219-4297-ddaa-f194e6fb8242"
      },
      "execution_count": 17,
      "outputs": [
        {
          "output_type": "stream",
          "name": "stdout",
          "text": [
            "{1, 2, 9}\n"
          ]
        }
      ]
    },
    {
      "cell_type": "code",
      "source": [
        "A={1,2,3,4,5,9}\n",
        "B={3,4,5,6,8,7}\n",
        "C=B-A\n",
        "print(C)\n",
        "D=A.difference(B)\n",
        "print(D)"
      ],
      "metadata": {
        "colab": {
          "base_uri": "https://localhost:8080/"
        },
        "id": "rUJXIQuvSjWW",
        "outputId": "2fef30fc-a0b3-4b41-92bc-af4787922110"
      },
      "execution_count": 19,
      "outputs": [
        {
          "output_type": "stream",
          "name": "stdout",
          "text": [
            "{8, 6, 7}\n",
            "{1, 2, 9}\n"
          ]
        }
      ]
    },
    {
      "cell_type": "code",
      "source": [
        "A={1,2,3,4,5,9}\n",
        "B={3,4,5,6,8,7}\n",
        "C=A&B\n",
        "print(C)\n",
        "D=A.intersection(B)\n",
        "print(D)"
      ],
      "metadata": {
        "colab": {
          "base_uri": "https://localhost:8080/"
        },
        "id": "OyA_dQ8bUCRW",
        "outputId": "05681809-10a6-433c-9c46-38183c943665"
      },
      "execution_count": 22,
      "outputs": [
        {
          "output_type": "stream",
          "name": "stdout",
          "text": [
            "{3, 4, 5}\n",
            "{3, 4, 5}\n"
          ]
        }
      ]
    },
    {
      "cell_type": "code",
      "source": [
        "A.clear()\n",
        "print(A)"
      ],
      "metadata": {
        "colab": {
          "base_uri": "https://localhost:8080/"
        },
        "id": "Y1cEqEvfVRJy",
        "outputId": "ff59566c-b127-4a67-fd00-d6b66abec155"
      },
      "execution_count": 23,
      "outputs": [
        {
          "output_type": "stream",
          "name": "stdout",
          "text": [
            "set()\n"
          ]
        }
      ]
    },
    {
      "cell_type": "code",
      "source": [
        "del B\n",
        "print(B)"
      ],
      "metadata": {
        "colab": {
          "base_uri": "https://localhost:8080/",
          "height": 158
        },
        "id": "jneiDLOzVs_T",
        "outputId": "475851e5-ad1b-4972-dcd7-0c7b413c88be"
      },
      "execution_count": 25,
      "outputs": [
        {
          "output_type": "error",
          "ename": "NameError",
          "evalue": "name 'B' is not defined",
          "traceback": [
            "\u001b[0;31m---------------------------------------------------------------------------\u001b[0m",
            "\u001b[0;31mNameError\u001b[0m                                 Traceback (most recent call last)",
            "\u001b[0;32m<ipython-input-25-45a7865c597f>\u001b[0m in \u001b[0;36m<cell line: 2>\u001b[0;34m()\u001b[0m\n\u001b[1;32m      1\u001b[0m \u001b[0;32mdel\u001b[0m \u001b[0mB\u001b[0m\u001b[0;34m\u001b[0m\u001b[0;34m\u001b[0m\u001b[0m\n\u001b[0;32m----> 2\u001b[0;31m \u001b[0mprint\u001b[0m\u001b[0;34m(\u001b[0m\u001b[0mB\u001b[0m\u001b[0;34m)\u001b[0m\u001b[0;34m\u001b[0m\u001b[0;34m\u001b[0m\u001b[0m\n\u001b[0m",
            "\u001b[0;31mNameError\u001b[0m: name 'B' is not defined"
          ]
        }
      ]
    },
    {
      "cell_type": "code",
      "source": [
        "Trees={\"Palm\",\"Mango\",\"coconut\",\"Orange\"}\n",
        "print(Trees)"
      ],
      "metadata": {
        "colab": {
          "base_uri": "https://localhost:8080/"
        },
        "id": "01tK_BiKW4dk",
        "outputId": "832f42d5-5956-4716-ec8e-acd473d57e15"
      },
      "execution_count": 26,
      "outputs": [
        {
          "output_type": "stream",
          "name": "stdout",
          "text": [
            "{'Palm', 'Mango', 'coconut', 'Orange'}\n"
          ]
        }
      ]
    },
    {
      "cell_type": "code",
      "source": [
        "\n",
        "Trees.remove(\"Mango\")\n",
        "print(Trees)"
      ],
      "metadata": {
        "colab": {
          "base_uri": "https://localhost:8080/"
        },
        "id": "d2P3UlrrYRdU",
        "outputId": "9984e678-2315-4de0-f5ec-ba8251a9047b"
      },
      "execution_count": 27,
      "outputs": [
        {
          "output_type": "stream",
          "name": "stdout",
          "text": [
            "{'Palm', 'coconut', 'Orange'}\n"
          ]
        }
      ]
    },
    {
      "cell_type": "code",
      "source": [
        "Trees.discard(\"Palm\")\n",
        "print(Trees)"
      ],
      "metadata": {
        "colab": {
          "base_uri": "https://localhost:8080/"
        },
        "id": "nqcFbTqCYn00",
        "outputId": "a66e3822-68a3-4d5f-ce25-2dca81cb9991"
      },
      "execution_count": 28,
      "outputs": [
        {
          "output_type": "stream",
          "name": "stdout",
          "text": [
            "{'coconut', 'Orange'}\n"
          ]
        }
      ]
    },
    {
      "cell_type": "code",
      "source": [
        "Veg1={\"onion\",\"potato\",\"tomato\",\"chilly\",\"carrot\"}\n",
        "Veg2={\"onion\",\"potato\",\"tomato\",\"beetroot\",\"pear\",\"brinjal\"}\n",
        "Veg3=Veg1.union(Veg2)\n",
        "print(Veg3)\n",
        "Veg4=Veg1-Veg2\n",
        "print(Veg4)"
      ],
      "metadata": {
        "colab": {
          "base_uri": "https://localhost:8080/"
        },
        "id": "xR_J0FJlY3ix",
        "outputId": "c2fa4bb4-d3f8-4fa9-9e42-2ddd2cd5584c"
      },
      "execution_count": 30,
      "outputs": [
        {
          "output_type": "stream",
          "name": "stdout",
          "text": [
            "{'pear', 'carrot', 'onion', 'tomato', 'brinjal', 'chilly', 'beetroot', 'potato'}\n",
            "{'carrot', 'chilly'}\n"
          ]
        }
      ]
    },
    {
      "cell_type": "code",
      "source": [
        "dect1={\"name\":\"john\",\"email\":\"john@gmail.com\",\"phone\":12345}\n",
        "print(dect1)"
      ],
      "metadata": {
        "colab": {
          "base_uri": "https://localhost:8080/"
        },
        "id": "FfjhCEefaVuN",
        "outputId": "3f5167ab-fb17-414f-9aba-5099603c102c"
      },
      "execution_count": 31,
      "outputs": [
        {
          "output_type": "stream",
          "name": "stdout",
          "text": [
            "{'name': 'john', 'email': 'john@gmail.com', 'phone': 12345}\n"
          ]
        }
      ]
    },
    {
      "cell_type": "code",
      "source": [
        "a=dect1[\"name\"]\n",
        "print(a)"
      ],
      "metadata": {
        "colab": {
          "base_uri": "https://localhost:8080/"
        },
        "id": "ogDhWbDRb6fG",
        "outputId": "bb386455-c4ef-4eb1-810b-12e7a9f32aaf"
      },
      "execution_count": 32,
      "outputs": [
        {
          "output_type": "stream",
          "name": "stdout",
          "text": [
            "john\n"
          ]
        }
      ]
    },
    {
      "cell_type": "code",
      "source": [
        "a=dect1.get(\"email\")\n",
        "print(a)"
      ],
      "metadata": {
        "colab": {
          "base_uri": "https://localhost:8080/"
        },
        "id": "8NHCgq_PciiP",
        "outputId": "c2f5dda8-556f-48c0-ccff-88be28272e24"
      },
      "execution_count": 33,
      "outputs": [
        {
          "output_type": "stream",
          "name": "stdout",
          "text": [
            "john@gmail.com\n"
          ]
        }
      ]
    },
    {
      "cell_type": "code",
      "source": [
        "dect1[\"name\"]=\"sinu\"\n",
        "print(dect1)"
      ],
      "metadata": {
        "colab": {
          "base_uri": "https://localhost:8080/"
        },
        "id": "ZPp1v3K8dcvJ",
        "outputId": "50005860-74e4-49f6-c3af-fc58860e9807"
      },
      "execution_count": 34,
      "outputs": [
        {
          "output_type": "stream",
          "name": "stdout",
          "text": [
            "{'name': 'sinu', 'email': 'john@gmail.com', 'phone': 12345}\n"
          ]
        }
      ]
    },
    {
      "cell_type": "code",
      "source": [
        "dect1[\"age\"]=30\n",
        "print(dect1)"
      ],
      "metadata": {
        "colab": {
          "base_uri": "https://localhost:8080/"
        },
        "id": "oCF-aA1Pd3jt",
        "outputId": "67a31955-9b16-4527-91e6-bbc555a50e77"
      },
      "execution_count": 35,
      "outputs": [
        {
          "output_type": "stream",
          "name": "stdout",
          "text": [
            "{'name': 'sinu', 'email': 'john@gmail.com', 'phone': 12345, 'age': 30}\n"
          ]
        }
      ]
    },
    {
      "cell_type": "code",
      "source": [
        "dect2=dect1.copy()\n",
        "print(dect2)"
      ],
      "metadata": {
        "colab": {
          "base_uri": "https://localhost:8080/"
        },
        "id": "RtHVKiEFegqI",
        "outputId": "4f0f6dfa-cfdc-4417-effa-881db045f9b8"
      },
      "execution_count": 36,
      "outputs": [
        {
          "output_type": "stream",
          "name": "stdout",
          "text": [
            "{'name': 'sinu', 'email': 'john@gmail.com', 'phone': 12345, 'age': 30}\n"
          ]
        }
      ]
    },
    {
      "cell_type": "code",
      "source": [
        "dect1.pop(\"email\")\n",
        "print(dect1)"
      ],
      "metadata": {
        "colab": {
          "base_uri": "https://localhost:8080/"
        },
        "id": "JgO9sPfafBkw",
        "outputId": "39d366e2-4e6f-4aa4-c581-435963c83b5f"
      },
      "execution_count": 37,
      "outputs": [
        {
          "output_type": "stream",
          "name": "stdout",
          "text": [
            "{'name': 'sinu', 'phone': 12345, 'age': 30}\n"
          ]
        }
      ]
    },
    {
      "cell_type": "code",
      "source": [
        "del dect1[\"phone\"]\n",
        "print(dect1)"
      ],
      "metadata": {
        "colab": {
          "base_uri": "https://localhost:8080/"
        },
        "id": "aPdLeH7RfhfN",
        "outputId": "b7bbbc3b-0e42-4f84-c51b-ebd5b6287c46"
      },
      "execution_count": 38,
      "outputs": [
        {
          "output_type": "stream",
          "name": "stdout",
          "text": [
            "{'name': 'sinu', 'age': 30}\n"
          ]
        }
      ]
    },
    {
      "cell_type": "code",
      "source": [
        "text=\"python language\"\n",
        "print(text)"
      ],
      "metadata": {
        "colab": {
          "base_uri": "https://localhost:8080/"
        },
        "id": "GdVruWgUg-oM",
        "outputId": "ca699b18-a168-43bc-c1f0-7fb00b759c42"
      },
      "execution_count": 39,
      "outputs": [
        {
          "output_type": "stream",
          "name": "stdout",
          "text": [
            "python language\n"
          ]
        }
      ]
    },
    {
      "cell_type": "code",
      "source": [
        "print(text[0])\n",
        "print(text[-1])"
      ],
      "metadata": {
        "colab": {
          "base_uri": "https://localhost:8080/"
        },
        "id": "8HvBCla2hxsE",
        "outputId": "8aadc564-bf59-4ce3-94b9-d0de65be57cd"
      },
      "execution_count": 41,
      "outputs": [
        {
          "output_type": "stream",
          "name": "stdout",
          "text": [
            "p\n",
            "e\n"
          ]
        }
      ]
    },
    {
      "cell_type": "code",
      "source": [
        "print(text[1:5])\n",
        "print(text[5:9])"
      ],
      "metadata": {
        "colab": {
          "base_uri": "https://localhost:8080/"
        },
        "id": "Vzsox5mSituc",
        "outputId": "79e20108-ad2d-416d-9e5f-f89f1f3dfa38"
      },
      "execution_count": 43,
      "outputs": [
        {
          "output_type": "stream",
          "name": "stdout",
          "text": [
            "ytho\n",
            "n la\n"
          ]
        }
      ]
    },
    {
      "cell_type": "code",
      "source": [
        "a=\"    Hai  \"\n",
        "print(a)\n",
        "print(a.strip())"
      ],
      "metadata": {
        "colab": {
          "base_uri": "https://localhost:8080/"
        },
        "id": "7iN9GfyskUdy",
        "outputId": "b4d13155-79b3-43de-8254-504a7c5c5411"
      },
      "execution_count": 45,
      "outputs": [
        {
          "output_type": "stream",
          "name": "stdout",
          "text": [
            "    Hai  \n",
            "Hai\n"
          ]
        }
      ]
    },
    {
      "cell_type": "code",
      "source": [
        "a=\"PYTHON LANGUAGE\"\n",
        "print(a.lower())\n",
        "a=\"python language\"\n",
        "print(a.upper())\n",
        "a=\"PyThon LanGuAgE\"\n",
        "print(a.swapcase())\n",
        "\n"
      ],
      "metadata": {
        "colab": {
          "base_uri": "https://localhost:8080/"
        },
        "id": "H37IWVwtlLhv",
        "outputId": "6fa1f173-4763-4931-9b7f-bc1d3a8e8d70"
      },
      "execution_count": 49,
      "outputs": [
        {
          "output_type": "stream",
          "name": "stdout",
          "text": [
            "python language\n",
            "PYTHON LANGUAGE\n",
            "pYtHON lANgUaGe\n",
            "PyThon LanGuAgE\n"
          ]
        }
      ]
    },
    {
      "cell_type": "code",
      "source": [
        "text=\"kadmath\"\n",
        "print(text.replace(\"d\",\"h\"))"
      ],
      "metadata": {
        "colab": {
          "base_uri": "https://localhost:8080/"
        },
        "id": "m6Td1UgltGJL",
        "outputId": "e8666364-0648-498e-b64a-5ce4c12b7614"
      },
      "execution_count": 51,
      "outputs": [
        {
          "output_type": "stream",
          "name": "stdout",
          "text": [
            "kahmath\n"
          ]
        }
      ]
    },
    {
      "cell_type": "code",
      "source": [
        "a=\"Hello, world!\"\n",
        "b=a.endswith(\"world!\")\n",
        "print(b)\n",
        "b=a.startswith(\"Hello\")\n",
        "print(b)\n"
      ],
      "metadata": {
        "colab": {
          "base_uri": "https://localhost:8080/"
        },
        "id": "7ZyhJ5kttijX",
        "outputId": "32d089c0-6cc5-4361-d78b-31cd56299b8d"
      },
      "execution_count": 53,
      "outputs": [
        {
          "output_type": "stream",
          "name": "stdout",
          "text": [
            "True\n",
            "True\n"
          ]
        }
      ]
    }
  ]
}